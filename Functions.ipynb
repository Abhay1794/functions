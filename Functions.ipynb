{
 "cells": [
  {
   "cell_type": "code",
   "execution_count": 1,
   "id": "181eab5e-c936-4577-99b4-c5d4856e8ba3",
   "metadata": {},
   "outputs": [],
   "source": [
    "#THEORY QUESTIONS"
   ]
  },
  {
   "cell_type": "code",
   "execution_count": 1,
   "id": "122c4954-87ca-4057-b5bd-e1a7f6052cb7",
   "metadata": {},
   "outputs": [
    {
     "data": {
      "text/plain": [
       "60"
      ]
     },
     "execution_count": 1,
     "metadata": {},
     "output_type": "execute_result"
    }
   ],
   "source": [
    "#1. What is the difference between a function and a method in Python\n",
    "\n",
    "#Function is a block of code which performs some specific task/ computation\n",
    "#Example:\n",
    "def multiple(x,y,z):\n",
    "    return x*y*z\n",
    "multiple(2,5,6)"
   ]
  },
  {
   "cell_type": "code",
   "execution_count": 6,
   "id": "fba1cd8f-6a9f-4bc4-b351-10789e3c65db",
   "metadata": {},
   "outputs": [],
   "source": [
    "#Method are functions that are associated with an object\n",
    "#Example:\n",
    "s = [\"abhay\",\"rakesh\",\"darshan\"]\n",
    "s.sort()"
   ]
  },
  {
   "cell_type": "code",
   "execution_count": 7,
   "id": "66529680-cd63-4244-a76b-76580f1178b5",
   "metadata": {},
   "outputs": [
    {
     "data": {
      "text/plain": [
       "['abhay', 'darshan', 'rakesh']"
      ]
     },
     "execution_count": 7,
     "metadata": {},
     "output_type": "execute_result"
    }
   ],
   "source": [
    "s"
   ]
  },
  {
   "cell_type": "code",
   "execution_count": 11,
   "id": "e4b723da-08d6-4166-8e7e-5d124c777385",
   "metadata": {},
   "outputs": [
    {
     "data": {
      "text/plain": [
       "17"
      ]
     },
     "execution_count": 11,
     "metadata": {},
     "output_type": "execute_result"
    }
   ],
   "source": [
    "#2. Explain the concept of function arguments and parameters in Python\n",
    " #Default argument: Default arguments are values that are provided while defining functions \n",
    "def sum(a,b, c = 5):\n",
    "        return a+b+c\n",
    "sum(b=5,a=7)"
   ]
  },
  {
   "cell_type": "code",
   "execution_count": 23,
   "id": "34d8a528-6db2-46d2-9d59-8669679dd0c0",
   "metadata": {},
   "outputs": [
    {
     "data": {
      "text/plain": [
       "'Abhay_M_Shet'"
      ]
     },
     "execution_count": 23,
     "metadata": {},
     "output_type": "execute_result"
    }
   ],
   "source": [
    "#Positional argument:when you call a function and provide arguments based on the position of the parameters\n",
    "def addition(a,b):\n",
    "    return a+b\n",
    "addition(\"Abhay\" , \"_M_Shet\")"
   ]
  },
  {
   "cell_type": "code",
   "execution_count": 32,
   "id": "308329ac-b92d-4526-84c3-d322e9ac5c36",
   "metadata": {},
   "outputs": [
    {
     "name": "stdout",
     "output_type": "stream",
     "text": [
      "Darshan 18\n"
     ]
    }
   ],
   "source": [
    "#Keyword argument: A keyword argument is where you provide a name to the variable as you pass it into the function\n",
    "def hello(name,age):\n",
    "    print(name,age)\n",
    "hello(name=\"Darshan\",age=\"18\")    "
   ]
  },
  {
   "cell_type": "code",
   "execution_count": 19,
   "id": "860598a9-5d4e-47a3-85e2-ae74ad659b12",
   "metadata": {},
   "outputs": [],
   "source": [
    "#3. What are the different ways to define and call a function in Python?\n",
    "#Calling function from inside\n",
    "def marks_in_subject(**kwargs):\n",
    "    marks_list=[ ]\n",
    "    for sub, marks in kwargs.items():\n",
    "        marks_list.append(marks)\n",
    "    return marks_list"
   ]
  },
  {
   "cell_type": "code",
   "execution_count": 20,
   "id": "00cdc7bc-2260-41e8-a7ac-9d1ff7dbb83b",
   "metadata": {},
   "outputs": [
    {
     "data": {
      "text/plain": [
       "[90, 60]"
      ]
     },
     "execution_count": 20,
     "metadata": {},
     "output_type": "execute_result"
    }
   ],
   "source": [
    "marks_in_subject(a=90,b=60)"
   ]
  },
  {
   "cell_type": "code",
   "execution_count": 17,
   "id": "762638ba-46f4-4331-bf54-0f37a43f7047",
   "metadata": {},
   "outputs": [],
   "source": [
    "#calling function from outside\n",
    "\n",
    "def total_marks(marks_list):\n",
    "    return sum(marks_list)\n",
    "\n",
    "def marks_in_subject(**kwargs):\n",
    "    marks_list=[]\n",
    "    for subject,marks in kwargs.items():\n",
    "        marks_list.append(marks)\n",
    "    return total_marks(marks_list)\n",
    "    "
   ]
  },
  {
   "cell_type": "code",
   "execution_count": 18,
   "id": "86da08b6-6aa1-411c-ad9f-beeb698d6465",
   "metadata": {},
   "outputs": [
    {
     "data": {
      "text/plain": [
       "222"
      ]
     },
     "execution_count": 18,
     "metadata": {},
     "output_type": "execute_result"
    }
   ],
   "source": [
    "marks_in_subject(a=45,b=88,c=89)"
   ]
  },
  {
   "cell_type": "code",
   "execution_count": 22,
   "id": "4fade72c",
   "metadata": {},
   "outputs": [
    {
     "data": {
      "text/plain": [
       "'My name is Virat kohli'"
      ]
     },
     "execution_count": 22,
     "metadata": {},
     "output_type": "execute_result"
    }
   ],
   "source": [
    "# 4. What is the purpose of the `return` statement in a Python function?\n",
    "\n",
    "#The return statement in a python function is used to send a result back from the function where it is called .\n",
    "#example:\n",
    "def func():\n",
    "    return \"My name is Virat kohli\"\n",
    "func()"
   ]
  },
  {
   "cell_type": "code",
   "execution_count": 24,
   "id": "a3d4e3e5-df8c-4532-b2bf-af772b85fc8b",
   "metadata": {},
   "outputs": [
    {
     "data": {
      "text/plain": [
       "<str_iterator at 0x7e2f3c3186a0>"
      ]
     },
     "execution_count": 24,
     "metadata": {},
     "output_type": "execute_result"
    }
   ],
   "source": [
    "#5. What are iterators in Python and how do they differ from iterables?\n",
    "#Iterators\n",
    "#An iterator is an object representing a stream of data which return data one by one \n",
    "#example:\n",
    "\n",
    "s=\"pwskills\"\n",
    "iter(s)"
   ]
  },
  {
   "cell_type": "code",
   "execution_count": 27,
   "id": "9fa35ff9-40e0-4c5d-b294-f53ecaa8d361",
   "metadata": {},
   "outputs": [],
   "source": [
    "a = iter(s)"
   ]
  },
  {
   "cell_type": "code",
   "execution_count": 28,
   "id": "b3d48ec2-345d-439a-a94a-c9b09a051cd4",
   "metadata": {},
   "outputs": [
    {
     "data": {
      "text/plain": [
       "'p'"
      ]
     },
     "execution_count": 28,
     "metadata": {},
     "output_type": "execute_result"
    }
   ],
   "source": [
    "next(a)"
   ]
  },
  {
   "cell_type": "code",
   "execution_count": 29,
   "id": "f8b581eb-2473-4c37-b144-330534d87e8b",
   "metadata": {},
   "outputs": [
    {
     "data": {
      "text/plain": [
       "'w'"
      ]
     },
     "execution_count": 29,
     "metadata": {},
     "output_type": "execute_result"
    }
   ],
   "source": [
    "next(a)"
   ]
  },
  {
   "cell_type": "code",
   "execution_count": 30,
   "id": "6115ffc9-d347-49d7-81f9-a88053599f27",
   "metadata": {},
   "outputs": [
    {
     "name": "stdout",
     "output_type": "stream",
     "text": [
      "1\n",
      "5\n",
      "Ramukaka\n"
     ]
    }
   ],
   "source": [
    "#Iterables\n",
    "#An iterable is any python object that is capable of returning its members one at a time\n",
    "#example:\n",
    "\n",
    "list=[1,5,\"Ramukaka\"]\n",
    "for i in list:\n",
    "    print(i)"
   ]
  },
  {
   "cell_type": "code",
   "execution_count": 1,
   "id": "9f62e8b8-68c4-4282-be2b-0d381127f30c",
   "metadata": {},
   "outputs": [
    {
     "data": {
      "text/plain": [
       "<generator object sq_no_gen at 0x760926945770>"
      ]
     },
     "execution_count": 1,
     "metadata": {},
     "output_type": "execute_result"
    }
   ],
   "source": [
    "#6. Explain the concept of generators in Python and how they are defined.\n",
    "\n",
    "#general functions uses return statement but a generator function use yield statement\n",
    "#example:\n",
    "\n",
    "def sq_no_gen(n):\n",
    "    for i in range(n):\n",
    "        yield i**2\n",
    "sq_no_gen(10)        "
   ]
  },
  {
   "cell_type": "code",
   "execution_count": 6,
   "id": "a7faef5d-4a71-4096-a611-715570e06fa1",
   "metadata": {},
   "outputs": [
    {
     "data": {
      "text/plain": [
       "<generator object sq_no_gen at 0x760914e0b370>"
      ]
     },
     "execution_count": 6,
     "metadata": {},
     "output_type": "execute_result"
    }
   ],
   "source": [
    "gen = sq_no_gen(10)\n",
    "gen"
   ]
  },
  {
   "cell_type": "code",
   "execution_count": 7,
   "id": "2f2fa3d8-a33f-456a-a2ef-8888b6c47d5f",
   "metadata": {},
   "outputs": [
    {
     "data": {
      "text/plain": [
       "0"
      ]
     },
     "execution_count": 7,
     "metadata": {},
     "output_type": "execute_result"
    }
   ],
   "source": [
    "next(gen)"
   ]
  },
  {
   "cell_type": "code",
   "execution_count": 8,
   "id": "bb1ef22e-4a55-4138-98c4-be31e4c43144",
   "metadata": {},
   "outputs": [
    {
     "data": {
      "text/plain": [
       "1"
      ]
     },
     "execution_count": 8,
     "metadata": {},
     "output_type": "execute_result"
    }
   ],
   "source": [
    "next(gen)"
   ]
  },
  {
   "cell_type": "code",
   "execution_count": 9,
   "id": "1d3a1b7d-d233-4233-9c0f-a9f8b4d3585b",
   "metadata": {},
   "outputs": [
    {
     "data": {
      "text/plain": [
       "4"
      ]
     },
     "execution_count": 9,
     "metadata": {},
     "output_type": "execute_result"
    }
   ],
   "source": [
    "next(gen)"
   ]
  },
  {
   "cell_type": "code",
   "execution_count": 10,
   "id": "813c09be-cad9-453c-b22e-06ff98e2d730",
   "metadata": {},
   "outputs": [],
   "source": [
    "#7. What are the advantages of using generators over regular functions?\n",
    "\n",
    "#In generator function we use yield statement instead of return statement \n",
    "# In generator we can get result one by one instead of one go\n",
    "# Memory usage will be less\n",
    "# it will take less time for execution\n",
    "\n",
    "#Example:\n",
    "\n",
    "def fib(n):\n",
    "    a=0\n",
    "    b=1\n",
    "    for i in range(n):\n",
    "        yield a \n",
    "        a , b = b , a+b\n",
    "        "
   ]
  },
  {
   "cell_type": "code",
   "execution_count": 11,
   "id": "ed6850d1-7710-4455-85bd-e0d1aef7919f",
   "metadata": {},
   "outputs": [],
   "source": [
    "f = fib(100)"
   ]
  },
  {
   "cell_type": "code",
   "execution_count": 12,
   "id": "54a04880-d81c-48c5-999c-05a7829bafbd",
   "metadata": {},
   "outputs": [
    {
     "data": {
      "text/plain": [
       "<generator object fib at 0x760914e0bd10>"
      ]
     },
     "execution_count": 12,
     "metadata": {},
     "output_type": "execute_result"
    }
   ],
   "source": [
    "f"
   ]
  },
  {
   "cell_type": "code",
   "execution_count": 13,
   "id": "7d56976e-2789-4918-8988-40afbe517b3d",
   "metadata": {},
   "outputs": [
    {
     "data": {
      "text/plain": [
       "0"
      ]
     },
     "execution_count": 13,
     "metadata": {},
     "output_type": "execute_result"
    }
   ],
   "source": [
    "next(f)"
   ]
  },
  {
   "cell_type": "code",
   "execution_count": 14,
   "id": "5263d509-9e89-48bd-8f85-238a06e7f1b7",
   "metadata": {},
   "outputs": [
    {
     "data": {
      "text/plain": [
       "1"
      ]
     },
     "execution_count": 14,
     "metadata": {},
     "output_type": "execute_result"
    }
   ],
   "source": [
    "next(f)"
   ]
  },
  {
   "cell_type": "code",
   "execution_count": 15,
   "id": "fbfc88a6-4918-4552-828c-ef619db1b2f2",
   "metadata": {},
   "outputs": [
    {
     "data": {
      "text/plain": [
       "1"
      ]
     },
     "execution_count": 15,
     "metadata": {},
     "output_type": "execute_result"
    }
   ],
   "source": [
    "next(f)"
   ]
  },
  {
   "cell_type": "code",
   "execution_count": 16,
   "id": "2cdb1443-a6e1-4ab4-bb86-198fe33c4ea1",
   "metadata": {},
   "outputs": [
    {
     "data": {
      "text/plain": [
       "2"
      ]
     },
     "execution_count": 16,
     "metadata": {},
     "output_type": "execute_result"
    }
   ],
   "source": [
    "next(f)"
   ]
  },
  {
   "cell_type": "code",
   "execution_count": 17,
   "id": "782660ae-c9b1-4b41-8523-0cb02d1be216",
   "metadata": {},
   "outputs": [
    {
     "data": {
      "text/plain": [
       "25"
      ]
     },
     "execution_count": 17,
     "metadata": {},
     "output_type": "execute_result"
    }
   ],
   "source": [
    "#8. What is a lambda function in Python and when is it typically used.\n",
    "\n",
    "#Lambda function is a small anonymous function defined using lambda keyword \n",
    "#Lambda functions are usually used for short , simple operations and are limited to a single expression\n",
    "#Example:\n",
    "\n",
    "sq_lambda = lambda x : x**2\n",
    "sq_lambda(5)\n"
   ]
  },
  {
   "cell_type": "code",
   "execution_count": 18,
   "id": "adcd4f20-93e9-4375-b4b0-120482aed9d4",
   "metadata": {},
   "outputs": [
    {
     "data": {
      "text/plain": [
       "[101, 202, 303, 404]"
      ]
     },
     "execution_count": 18,
     "metadata": {},
     "output_type": "execute_result"
    }
   ],
   "source": [
    "#9. Explain the purpose and usage of the `map()` function in Python.\n",
    "\n",
    "#Map function executes a specified function for each item of an iterable \n",
    "#The map function is useful for applying transformations in a functional programming style \n",
    "# can help to write cleaner and more expressive cod\n",
    "\n",
    "#example:\n",
    "\n",
    "l1 = [100,200,300,400]\n",
    "l2 = [1,2,3,4]\n",
    "list(map(lambda x,y : x+y , l1, l2))"
   ]
  },
  {
   "cell_type": "code",
   "execution_count": 2,
   "id": "3c4ca880-b2f4-41b3-b28a-37b5458e354e",
   "metadata": {},
   "outputs": [
    {
     "data": {
      "text/plain": [
       "[1, 4, 9, 16, 25]"
      ]
     },
     "execution_count": 2,
     "metadata": {},
     "output_type": "execute_result"
    }
   ],
   "source": [
    "#10. What is the difference between `map()`, `reduce()`, and `filter()` functions in Python\n",
    " \n",
    "#MAP FUNCTION    \n",
    "#Map function executes a specified function for each item of an iterable \n",
    "#The map function is useful for applying transformations in a functional programming style \n",
    "# can help to write cleaner and more expressive cod\n",
    "\n",
    "#example:\n",
    "\n",
    "l=[1,2,3,4,5]\n",
    "def square(l):\n",
    "    sq=[]\n",
    "    for i in l:\n",
    "        sq.append(i**2)\n",
    "    return sq\n",
    "square(l)"
   ]
  },
  {
   "cell_type": "code",
   "execution_count": 1,
   "id": "fd8493e8-14e9-4d49-aa36-35e29564c4b0",
   "metadata": {},
   "outputs": [
    {
     "data": {
      "text/plain": [
       "33"
      ]
     },
     "execution_count": 1,
     "metadata": {},
     "output_type": "execute_result"
    }
   ],
   "source": [
    "#REDUCE FUNCTION \n",
    "#The reduce function takes a function and applies it ti all items in an iterable\n",
    "#Example:\n",
    "M = [5,6,3,7,9,1,2]\n",
    "from functools import reduce\n",
    "reduce (lambda x,y : x+y , M)"
   ]
  },
  {
   "cell_type": "code",
   "execution_count": 2,
   "id": "2f2a971e-89de-4f03-a330-39f2873b344a",
   "metadata": {},
   "outputs": [
    {
     "data": {
      "text/plain": [
       "[2, 4, 6]"
      ]
     },
     "execution_count": 2,
     "metadata": {},
     "output_type": "execute_result"
    }
   ],
   "source": [
    "#FILTER FUNCTION \n",
    "#Filter function is used filter elements from an iterable based on some conditions \n",
    "#example:\n",
    "\n",
    "G = [1,2,3,4,5,6,7]\n",
    "list(filter(lambda x: x%2 == 0 ,G))"
   ]
  },
  {
   "cell_type": "code",
   "execution_count": 3,
   "id": "5203f066-5cd3-4f44-a622-308ac0a59ef3",
   "metadata": {},
   "outputs": [],
   "source": [
    "#PRACTICAL QUESTIONS"
   ]
  },
  {
   "cell_type": "code",
   "execution_count": 6,
   "id": "dc78b72a-8c98-488b-b00a-658ac998cef7",
   "metadata": {},
   "outputs": [
    {
     "name": "stdout",
     "output_type": "stream",
     "text": [
      "88\n"
     ]
    }
   ],
   "source": [
    "#1. Write a Python function that takes a list of numbers as input and returns \n",
    "#the sum of all even numbers in the list\n",
    "\n",
    "def sum_of_even(numbers):\n",
    "    return sum(num for num in numbers if num%2 ==0)\n",
    "numbers = [1,22,5,77,4,6,81,93,56]\n",
    "print(sum_of_even(numbers))"
   ]
  },
  {
   "cell_type": "code",
   "execution_count": 9,
   "id": "2e5424ee-c6e6-4686-a442-704b85f57dea",
   "metadata": {},
   "outputs": [
    {
     "name": "stdout",
     "output_type": "stream",
     "text": [
      "OLLEH\n"
     ]
    }
   ],
   "source": [
    "#2. Create a Python function that accepts a string and returns the reverse of that string\n",
    "\n",
    "def reverse_string(s):\n",
    "    return s[::-1]\n",
    "greet = \"HELLO\"\n",
    "print(reverse_string(greet))"
   ]
  },
  {
   "cell_type": "code",
   "execution_count": 17,
   "id": "0c7502df-259a-4a10-beb2-60c944b7dd8f",
   "metadata": {},
   "outputs": [
    {
     "data": {
      "text/plain": [
       "[1, 16, 36, 64, 81]"
      ]
     },
     "execution_count": 17,
     "metadata": {},
     "output_type": "execute_result"
    }
   ],
   "source": [
    "#3. Implement a Python function that takes a list of integers and returns a new list containing the squares of \n",
    "#each number\n",
    "def sq_num(numbers):\n",
    "    sq_num = []\n",
    "    return [ x**2 for x in numbers]\n",
    "numbers = [1,4,6,8,9]\n",
    "sq_num(numbers)"
   ]
  },
  {
   "cell_type": "code",
   "execution_count": 6,
   "id": "b8a7d86c-1df7-41e8-a9a6-46969cc19573",
   "metadata": {},
   "outputs": [],
   "source": [
    "#6. Write a generator function in Python that yields the powers of 2 up to a given exponent\n",
    "\n",
    "def powers_of_two(max_exponent):\n",
    "    for exponent in range(max_exponent +1): \n",
    "        yield 2 ** exponent\n",
    "    for power in powers_of_two():\n",
    "        return power\n",
    "    powers_of_two(2)"
   ]
  },
  {
   "cell_type": "code",
   "execution_count": 10,
   "id": "e7745876-0dfe-4dea-a936-9cd8b8584e51",
   "metadata": {},
   "outputs": [
    {
     "name": "stdout",
     "output_type": "stream",
     "text": [
      "[(4, 1), (2, 2), (1, 5), (3, 8)]\n"
     ]
    }
   ],
   "source": [
    "#8. Use a lambda function in Python to sort a list of tuples based on the second element of each tuple \n",
    "  \n",
    "\n",
    "list_of_tuples = [(1, 5), (2, 2), (3, 8), (4, 1)]\n",
    "sorted_list = sorted(list_of_tuples, key=lambda x: x[1])\n",
    "print(sorted_list)    "
   ]
  },
  {
   "cell_type": "code",
   "execution_count": 11,
   "id": "94d030c2-4de9-4f33-9872-6ad21e28f4cd",
   "metadata": {},
   "outputs": [
    {
     "name": "stdout",
     "output_type": "stream",
     "text": [
      "[32.0, 104.0, 98.6, 194.0]\n"
     ]
    }
   ],
   "source": [
    "#9. Write a Python program that uses `map()` to convert a list of temperatures from Celsius to Fahrenheit\n",
    "\n",
    "celsius_temperatures = [0, 40, 37, 90]\n",
    "\n",
    "def celsius_to_fahrenheit(celsius):\n",
    "    return (celsius * 9/5) + 32\n",
    "fahrenheit_temperatures = map(celsius_to_fahrenheit, celsius_temperatures)\n",
    "\n",
    "fahrenheit_temperatures_list = list(fahrenheit_temperatures)\n",
    "print(fahrenheit_temperatures_list)\n"
   ]
  },
  {
   "cell_type": "code",
   "execution_count": 14,
   "id": "700e7c21-add3-4c10-bd4d-9f3bd422bd03",
   "metadata": {},
   "outputs": [
    {
     "name": "stdout",
     "output_type": "stream",
     "text": [
      "bhy s  by nd hs g s 18.\n"
     ]
    }
   ],
   "source": [
    "#10. Create a Python program that uses `filter()` to remove all the vowels from a given string\n",
    "\n",
    "\n",
    "input_string = \"Abhay is a boy and his age is 18.\"\n",
    " \n",
    "vowels = set('aeiouAEIOU')\n",
    "\n",
    "def is_not_vowel(char):\n",
    "    return char not in vowels\n",
    "\n",
    "filtered_characters = filter(is_not_vowel, input_string)\n",
    "\n",
    "result_string = ''.join(filtered_characters)\n",
    "\n",
    "\n",
    "print(result_string)\n"
   ]
  },
  {
   "cell_type": "code",
   "execution_count": null,
   "id": "104f6052-16f2-46dd-9e51-61275075f285",
   "metadata": {},
   "outputs": [],
   "source": []
  }
 ],
 "metadata": {
  "kernelspec": {
   "display_name": "Python 3 (ipykernel)",
   "language": "python",
   "name": "python3"
  },
  "language_info": {
   "codemirror_mode": {
    "name": "ipython",
    "version": 3
   },
   "file_extension": ".py",
   "mimetype": "text/x-python",
   "name": "python",
   "nbconvert_exporter": "python",
   "pygments_lexer": "ipython3",
   "version": "3.10.8"
  }
 },
 "nbformat": 4,
 "nbformat_minor": 5
}
